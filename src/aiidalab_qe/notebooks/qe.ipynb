{
 "cells": [
  {
   "cell_type": "code",
   "execution_count": 1,
   "metadata": {
    "vscode": {
     "languageId": "javascript"
    }
   },
   "outputs": [
    {
     "data": {
      "application/javascript": "IPython.OutputArea.prototype._should_scroll = function(lines) {\n    return false;\n}\ndocument.title='AiiDAlab QE'\n",
      "text/plain": [
       "<IPython.core.display.Javascript object>"
      ]
     },
     "metadata": {},
     "output_type": "display_data"
    }
   ],
   "source": [
    "%%javascript\n",
    "IPython.OutputArea.prototype._should_scroll = function(lines) {\n",
    "    return false;\n",
    "}\n",
    "document.title='AiiDAlab QE'"
   ]
  },
  {
   "cell_type": "code",
   "execution_count": 2,
   "metadata": {},
   "outputs": [],
   "source": [
    "%%capture\n",
    "from aiida import load_profile\n",
    "\n",
    "load_profile()"
   ]
  },
  {
   "cell_type": "code",
   "execution_count": 3,
   "metadata": {},
   "outputs": [],
   "source": [
    "# Fix pybel import path\n",
    "try:\n",
    "    import sys\n",
    "\n",
    "    sys.modules[\"pybel\"] = __import__(\"openbabel\", globals(), locals(), [\"pybel\"]).pybel\n",
    "except Exception:\n",
    "    pass"
   ]
  },
  {
   "cell_type": "code",
   "execution_count": 4,
   "metadata": {},
   "outputs": [
    {
     "data": {
      "application/vnd.jupyter.widget-view+json": {
       "model_id": "97acaeafbfb849efa62603881e6d3ffc",
       "version_major": 2,
       "version_minor": 0
      },
      "text/plain": []
     },
     "metadata": {},
     "output_type": "display_data"
    },
    {
     "data": {
      "application/javascript": "\n                var style = document.createElement('style');\n                style.type = 'text/css';\n                style.innerHTML = ``;\n                document.head.appendChild(style);\n            ",
      "text/plain": [
       "<IPython.core.display.Javascript object>"
      ]
     },
     "metadata": {},
     "output_type": "display_data"
    },
    {
     "name": "stdout",
     "output_type": "stream",
     "text": [
      "Failed to load entry point xas: module 'aiida_qe_xspec.workflows.xspectra.base' has no attribute 'XspectraCrystalWorkChain'\n"
     ]
    },
    {
     "ename": "NameError",
     "evalue": "name 'jupyter_notebook_url' is not defined",
     "output_type": "error",
     "traceback": [
      "\u001b[0;31m---------------------------------------------------------------------------\u001b[0m",
      "\u001b[0;31mNameError\u001b[0m                                 Traceback (most recent call last)",
      "Cell \u001b[0;32mIn[4], line 8\u001b[0m\n\u001b[1;32m      6\u001b[0m \u001b[38;5;66;03m# if jupyter_notebook_url is defined\u001b[39;00m\n\u001b[1;32m      7\u001b[0m \u001b[38;5;28;01mif\u001b[39;00m \u001b[38;5;124m\"\u001b[39m\u001b[38;5;124mjupyter_notebook_url\u001b[39m\u001b[38;5;124m\"\u001b[39m \u001b[38;5;129;01mnot\u001b[39;00m \u001b[38;5;129;01min\u001b[39;00m \u001b[38;5;28mlocals\u001b[39m():\n\u001b[0;32m----> 8\u001b[0m     url \u001b[38;5;241m=\u001b[39m urlparse\u001b[38;5;241m.\u001b[39murlsplit(\u001b[43mjupyter_notebook_url\u001b[49m)  \u001b[38;5;66;03m# noqa F821\u001b[39;00m\n\u001b[1;32m      9\u001b[0m     query \u001b[38;5;241m=\u001b[39m urlparse\u001b[38;5;241m.\u001b[39mparse_qs(url\u001b[38;5;241m.\u001b[39mquery)\n\u001b[1;32m     10\u001b[0m     pk \u001b[38;5;241m=\u001b[39m query[\u001b[38;5;124m\"\u001b[39m\u001b[38;5;124mpk\u001b[39m\u001b[38;5;124m\"\u001b[39m][\u001b[38;5;241m0\u001b[39m] \u001b[38;5;28;01mif\u001b[39;00m \u001b[38;5;124m\"\u001b[39m\u001b[38;5;124mpk\u001b[39m\u001b[38;5;124m\"\u001b[39m \u001b[38;5;129;01min\u001b[39;00m query \u001b[38;5;28;01melse\u001b[39;00m \u001b[38;5;28;01mNone\u001b[39;00m\n",
      "\u001b[0;31mNameError\u001b[0m: name 'jupyter_notebook_url' is not defined"
     ]
    }
   ],
   "source": [
    "import urllib.parse as urlparse\n",
    "\n",
    "from aiidalab_qe.app.main import QeApp\n",
    "import os\n",
    "\n",
    "if \"jupyter_notebook_url\" in locals():\n",
    "    # app_mode\n",
    "    url = urlparse.urlsplit(jupyter_notebook_url)  # noqa F821\n",
    "    query = urlparse.parse_qs(url.query)\n",
    "    pk = query[\"pk\"][0] if \"pk\" in query else None\n",
    "elif 'QUERY_STRING' in os.environ:\n",
    "    # voila\n",
    "    query = urlparse.parse_qs(os.environ['QUERY_STRING'])\n",
    "    pk = query[\"pk\"][0] if \"pk\" in query else None\n",
    "else:\n",
    "    pk = None\n",
    "\n",
    "app = QeApp(process=pk)"
   ]
  },
  {
   "cell_type": "code",
   "execution_count": null,
   "metadata": {},
   "outputs": [],
   "source": [
    "app.load()"
   ]
  }
 ],
 "metadata": {
  "kernelspec": {
   "display_name": "Python 3 (ipykernel)",
   "language": "python",
   "name": "python3"
  },
  "language_info": {
   "codemirror_mode": {
    "name": "ipython",
    "version": 3
   },
   "file_extension": ".py",
   "mimetype": "text/x-python",
   "name": "python",
   "nbconvert_exporter": "python",
   "pygments_lexer": "ipython3",
   "version": "3.11.0"
  }
 },
 "nbformat": 4,
 "nbformat_minor": 4
}
